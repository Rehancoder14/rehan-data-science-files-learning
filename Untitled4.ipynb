{
 "cells": [
  {
   "cell_type": "code",
   "execution_count": 7,
   "id": "5f24e5c0",
   "metadata": {},
   "outputs": [],
   "source": [
    "import matplotlib.pyplot as plt\n",
    "import numpy as np\n",
    "from sklearn import datasets, linear_model\n",
    "from sklearn.metrics import mean_squared_error"
   ]
  },
  {
   "cell_type": "code",
   "execution_count": 23,
   "id": "4d890d14",
   "metadata": {},
   "outputs": [
    {
     "name": "stdout",
     "output_type": "stream",
     "text": [
      "Mean squared error is :  3035.0601152912686\n"
     ]
    }
   ],
   "source": [
    "diabetes = datasets.load_diabetes()\n",
    "diabetes_X =diabetes.data[:, np.newaxis,2]\n",
    "diabetes_X_train = diabetes_X[:-30]\n",
    "diabetes_X_test = diabetes_X[-30:]\n",
    "diabetes_Y_train = diabetes.target[:-30]\n",
    "diabetes_Y_test = diabetes.target[-30:]\n",
    "model = linear_model.LinearRegression()\n",
    "diabetes_x_model= model.fit(diabetes_X_train, diabetes_Y_train)\n",
    "diabetes_Y_predict = model.predict(diabetes_X_test)\n",
    "print(\"Mean squared error is : \", mean_squared_error(diabetes_Y_test,diabetes_Y_predict))"
   ]
  },
  {
   "cell_type": "code",
   "execution_count": 16,
   "id": "c31bdd8a",
   "metadata": {},
   "outputs": [
    {
     "name": "stdout",
     "output_type": "stream",
     "text": [
      "Weights  [941.43097333]\n"
     ]
    }
   ],
   "source": [
    "# print(\"Weights \",model.coef_)"
   ]
  },
  {
   "cell_type": "code",
   "execution_count": 17,
   "id": "58f855a6",
   "metadata": {},
   "outputs": [
    {
     "name": "stdout",
     "output_type": "stream",
     "text": [
      "Intercept 153.39713623331698\n"
     ]
    }
   ],
   "source": [
    "# print(\"Intercept\", model.intercept_)"
   ]
  },
  {
   "cell_type": "code",
   "execution_count": 21,
   "id": "640ed5eb",
   "metadata": {},
   "outputs": [],
   "source": [
    "# plt.scatter(diabetes_X_test, diabetes_Y_test)\n",
    "# plt.plot(diabetes_X_test, diabetes_Y_predict)"
   ]
  },
  {
   "cell_type": "code",
   "execution_count": 22,
   "id": "e4a2b01d",
   "metadata": {},
   "outputs": [],
   "source": [
    "# plt.plot(diabetes_X_test, diabetes_Y_predict)"
   ]
  },
  {
   "cell_type": "code",
   "execution_count": null,
   "id": "85ee5850",
   "metadata": {},
   "outputs": [],
   "source": []
  }
 ],
 "metadata": {
  "kernelspec": {
   "display_name": "Python 3",
   "language": "python",
   "name": "python3"
  },
  "language_info": {
   "codemirror_mode": {
    "name": "ipython",
    "version": 3
   },
   "file_extension": ".py",
   "mimetype": "text/x-python",
   "name": "python",
   "nbconvert_exporter": "python",
   "pygments_lexer": "ipython3",
   "version": "3.8.8"
  }
 },
 "nbformat": 4,
 "nbformat_minor": 5
}
