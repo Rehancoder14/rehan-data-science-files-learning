{
 "cells": [
  {
   "cell_type": "code",
   "execution_count": 1,
   "id": "cb26eba0",
   "metadata": {},
   "outputs": [],
   "source": [
    "import numpy as np"
   ]
  },
  {
   "cell_type": "code",
   "execution_count": 2,
   "id": "5b35d23c",
   "metadata": {},
   "outputs": [],
   "source": [
    "import pandas as pd "
   ]
  },
  {
   "cell_type": "code",
   "execution_count": 3,
   "id": "d069ed7d",
   "metadata": {},
   "outputs": [],
   "source": [
    "dict1 = {\n",
    "    \"name\":[\"Rehan\",\"sid\",\"orton\",\"john\"],\n",
    "    \"marks\" : [98,87,76,66],\n",
    "    \"city\": [\"Koregaon\",\"Satara\",\"pune\",\"mumbai\"]\n",
    "}\n"
   ]
  },
  {
   "cell_type": "code",
   "execution_count": 4,
   "id": "84a2af42",
   "metadata": {},
   "outputs": [
    {
     "data": {
      "text/plain": [
       "dict"
      ]
     },
     "execution_count": 4,
     "metadata": {},
     "output_type": "execute_result"
    }
   ],
   "source": [
    "dict"
   ]
  },
  {
   "cell_type": "code",
   "execution_count": 5,
   "id": "85411145",
   "metadata": {},
   "outputs": [
    {
     "data": {
      "text/plain": [
       "{'name': ['Rehan', 'sid', 'orton', 'john'],\n",
       " 'marks': [98, 87, 76, 66],\n",
       " 'city': ['Koregaon', 'Satara', 'pune', 'mumbai']}"
      ]
     },
     "execution_count": 5,
     "metadata": {},
     "output_type": "execute_result"
    }
   ],
   "source": [
    "dict1"
   ]
  },
  {
   "cell_type": "code",
   "execution_count": 6,
   "id": "1c8e1512",
   "metadata": {},
   "outputs": [],
   "source": [
    "df = pd.DataFrame(dict1)"
   ]
  },
  {
   "cell_type": "code",
   "execution_count": 7,
   "id": "4fbae63b",
   "metadata": {},
   "outputs": [
    {
     "data": {
      "text/html": [
       "<div>\n",
       "<style scoped>\n",
       "    .dataframe tbody tr th:only-of-type {\n",
       "        vertical-align: middle;\n",
       "    }\n",
       "\n",
       "    .dataframe tbody tr th {\n",
       "        vertical-align: top;\n",
       "    }\n",
       "\n",
       "    .dataframe thead th {\n",
       "        text-align: right;\n",
       "    }\n",
       "</style>\n",
       "<table border=\"1\" class=\"dataframe\">\n",
       "  <thead>\n",
       "    <tr style=\"text-align: right;\">\n",
       "      <th></th>\n",
       "      <th>name</th>\n",
       "      <th>marks</th>\n",
       "      <th>city</th>\n",
       "    </tr>\n",
       "  </thead>\n",
       "  <tbody>\n",
       "    <tr>\n",
       "      <th>0</th>\n",
       "      <td>Rehan</td>\n",
       "      <td>98</td>\n",
       "      <td>Koregaon</td>\n",
       "    </tr>\n",
       "    <tr>\n",
       "      <th>1</th>\n",
       "      <td>sid</td>\n",
       "      <td>87</td>\n",
       "      <td>Satara</td>\n",
       "    </tr>\n",
       "    <tr>\n",
       "      <th>2</th>\n",
       "      <td>orton</td>\n",
       "      <td>76</td>\n",
       "      <td>pune</td>\n",
       "    </tr>\n",
       "    <tr>\n",
       "      <th>3</th>\n",
       "      <td>john</td>\n",
       "      <td>66</td>\n",
       "      <td>mumbai</td>\n",
       "    </tr>\n",
       "  </tbody>\n",
       "</table>\n",
       "</div>"
      ],
      "text/plain": [
       "    name  marks      city\n",
       "0  Rehan     98  Koregaon\n",
       "1    sid     87    Satara\n",
       "2  orton     76      pune\n",
       "3   john     66    mumbai"
      ]
     },
     "execution_count": 7,
     "metadata": {},
     "output_type": "execute_result"
    }
   ],
   "source": [
    "df"
   ]
  },
  {
   "cell_type": "code",
   "execution_count": 8,
   "id": "9b8a4db2",
   "metadata": {},
   "outputs": [],
   "source": [
    "df.to_csv(\"friends.csv\", index = False)"
   ]
  },
  {
   "cell_type": "code",
   "execution_count": 9,
   "id": "bc6a093f",
   "metadata": {},
   "outputs": [
    {
     "data": {
      "text/html": [
       "<div>\n",
       "<style scoped>\n",
       "    .dataframe tbody tr th:only-of-type {\n",
       "        vertical-align: middle;\n",
       "    }\n",
       "\n",
       "    .dataframe tbody tr th {\n",
       "        vertical-align: top;\n",
       "    }\n",
       "\n",
       "    .dataframe thead th {\n",
       "        text-align: right;\n",
       "    }\n",
       "</style>\n",
       "<table border=\"1\" class=\"dataframe\">\n",
       "  <thead>\n",
       "    <tr style=\"text-align: right;\">\n",
       "      <th></th>\n",
       "      <th>name</th>\n",
       "      <th>marks</th>\n",
       "      <th>city</th>\n",
       "    </tr>\n",
       "  </thead>\n",
       "  <tbody>\n",
       "    <tr>\n",
       "      <th>0</th>\n",
       "      <td>Rehan</td>\n",
       "      <td>98</td>\n",
       "      <td>Koregaon</td>\n",
       "    </tr>\n",
       "    <tr>\n",
       "      <th>1</th>\n",
       "      <td>sid</td>\n",
       "      <td>87</td>\n",
       "      <td>Satara</td>\n",
       "    </tr>\n",
       "    <tr>\n",
       "      <th>2</th>\n",
       "      <td>orton</td>\n",
       "      <td>76</td>\n",
       "      <td>pune</td>\n",
       "    </tr>\n",
       "    <tr>\n",
       "      <th>3</th>\n",
       "      <td>john</td>\n",
       "      <td>66</td>\n",
       "      <td>mumbai</td>\n",
       "    </tr>\n",
       "  </tbody>\n",
       "</table>\n",
       "</div>"
      ],
      "text/plain": [
       "    name  marks      city\n",
       "0  Rehan     98  Koregaon\n",
       "1    sid     87    Satara\n",
       "2  orton     76      pune\n",
       "3   john     66    mumbai"
      ]
     },
     "execution_count": 9,
     "metadata": {},
     "output_type": "execute_result"
    }
   ],
   "source": [
    "df"
   ]
  },
  {
   "cell_type": "code",
   "execution_count": 10,
   "id": "709840a7",
   "metadata": {},
   "outputs": [
    {
     "data": {
      "text/html": [
       "<div>\n",
       "<style scoped>\n",
       "    .dataframe tbody tr th:only-of-type {\n",
       "        vertical-align: middle;\n",
       "    }\n",
       "\n",
       "    .dataframe tbody tr th {\n",
       "        vertical-align: top;\n",
       "    }\n",
       "\n",
       "    .dataframe thead th {\n",
       "        text-align: right;\n",
       "    }\n",
       "</style>\n",
       "<table border=\"1\" class=\"dataframe\">\n",
       "  <thead>\n",
       "    <tr style=\"text-align: right;\">\n",
       "      <th></th>\n",
       "      <th>name</th>\n",
       "      <th>marks</th>\n",
       "      <th>city</th>\n",
       "    </tr>\n",
       "  </thead>\n",
       "  <tbody>\n",
       "    <tr>\n",
       "      <th>0</th>\n",
       "      <td>Rehan</td>\n",
       "      <td>98</td>\n",
       "      <td>Koregaon</td>\n",
       "    </tr>\n",
       "    <tr>\n",
       "      <th>1</th>\n",
       "      <td>sid</td>\n",
       "      <td>87</td>\n",
       "      <td>Satara</td>\n",
       "    </tr>\n",
       "  </tbody>\n",
       "</table>\n",
       "</div>"
      ],
      "text/plain": [
       "    name  marks      city\n",
       "0  Rehan     98  Koregaon\n",
       "1    sid     87    Satara"
      ]
     },
     "execution_count": 10,
     "metadata": {},
     "output_type": "execute_result"
    }
   ],
   "source": [
    "df.head(2)"
   ]
  },
  {
   "cell_type": "code",
   "execution_count": 11,
   "id": "23d3ce63",
   "metadata": {},
   "outputs": [
    {
     "data": {
      "text/html": [
       "<div>\n",
       "<style scoped>\n",
       "    .dataframe tbody tr th:only-of-type {\n",
       "        vertical-align: middle;\n",
       "    }\n",
       "\n",
       "    .dataframe tbody tr th {\n",
       "        vertical-align: top;\n",
       "    }\n",
       "\n",
       "    .dataframe thead th {\n",
       "        text-align: right;\n",
       "    }\n",
       "</style>\n",
       "<table border=\"1\" class=\"dataframe\">\n",
       "  <thead>\n",
       "    <tr style=\"text-align: right;\">\n",
       "      <th></th>\n",
       "      <th>name</th>\n",
       "      <th>marks</th>\n",
       "      <th>city</th>\n",
       "    </tr>\n",
       "  </thead>\n",
       "  <tbody>\n",
       "    <tr>\n",
       "      <th>2</th>\n",
       "      <td>orton</td>\n",
       "      <td>76</td>\n",
       "      <td>pune</td>\n",
       "    </tr>\n",
       "    <tr>\n",
       "      <th>3</th>\n",
       "      <td>john</td>\n",
       "      <td>66</td>\n",
       "      <td>mumbai</td>\n",
       "    </tr>\n",
       "  </tbody>\n",
       "</table>\n",
       "</div>"
      ],
      "text/plain": [
       "    name  marks    city\n",
       "2  orton     76    pune\n",
       "3   john     66  mumbai"
      ]
     },
     "execution_count": 11,
     "metadata": {},
     "output_type": "execute_result"
    }
   ],
   "source": [
    "df.tail(2)"
   ]
  },
  {
   "cell_type": "code",
   "execution_count": 12,
   "id": "3b640eea",
   "metadata": {},
   "outputs": [
    {
     "data": {
      "text/html": [
       "<div>\n",
       "<style scoped>\n",
       "    .dataframe tbody tr th:only-of-type {\n",
       "        vertical-align: middle;\n",
       "    }\n",
       "\n",
       "    .dataframe tbody tr th {\n",
       "        vertical-align: top;\n",
       "    }\n",
       "\n",
       "    .dataframe thead th {\n",
       "        text-align: right;\n",
       "    }\n",
       "</style>\n",
       "<table border=\"1\" class=\"dataframe\">\n",
       "  <thead>\n",
       "    <tr style=\"text-align: right;\">\n",
       "      <th></th>\n",
       "      <th>marks</th>\n",
       "    </tr>\n",
       "  </thead>\n",
       "  <tbody>\n",
       "    <tr>\n",
       "      <th>count</th>\n",
       "      <td>4.00000</td>\n",
       "    </tr>\n",
       "    <tr>\n",
       "      <th>mean</th>\n",
       "      <td>81.75000</td>\n",
       "    </tr>\n",
       "    <tr>\n",
       "      <th>std</th>\n",
       "      <td>13.81726</td>\n",
       "    </tr>\n",
       "    <tr>\n",
       "      <th>min</th>\n",
       "      <td>66.00000</td>\n",
       "    </tr>\n",
       "    <tr>\n",
       "      <th>25%</th>\n",
       "      <td>73.50000</td>\n",
       "    </tr>\n",
       "    <tr>\n",
       "      <th>50%</th>\n",
       "      <td>81.50000</td>\n",
       "    </tr>\n",
       "    <tr>\n",
       "      <th>75%</th>\n",
       "      <td>89.75000</td>\n",
       "    </tr>\n",
       "    <tr>\n",
       "      <th>max</th>\n",
       "      <td>98.00000</td>\n",
       "    </tr>\n",
       "  </tbody>\n",
       "</table>\n",
       "</div>"
      ],
      "text/plain": [
       "          marks\n",
       "count   4.00000\n",
       "mean   81.75000\n",
       "std    13.81726\n",
       "min    66.00000\n",
       "25%    73.50000\n",
       "50%    81.50000\n",
       "75%    89.75000\n",
       "max    98.00000"
      ]
     },
     "execution_count": 12,
     "metadata": {},
     "output_type": "execute_result"
    }
   ],
   "source": [
    "df.describe()"
   ]
  },
  {
   "cell_type": "code",
   "execution_count": 13,
   "id": "92960cb4",
   "metadata": {},
   "outputs": [],
   "source": [
    "rs = pd.read_csv(\"train.csv\")"
   ]
  },
  {
   "cell_type": "raw",
   "id": "7454386b",
   "metadata": {},
   "source": [
    "rs"
   ]
  },
  {
   "cell_type": "code",
   "execution_count": 14,
   "id": "6804c98c",
   "metadata": {},
   "outputs": [
    {
     "data": {
      "text/html": [
       "<div>\n",
       "<style scoped>\n",
       "    .dataframe tbody tr th:only-of-type {\n",
       "        vertical-align: middle;\n",
       "    }\n",
       "\n",
       "    .dataframe tbody tr th {\n",
       "        vertical-align: top;\n",
       "    }\n",
       "\n",
       "    .dataframe thead th {\n",
       "        text-align: right;\n",
       "    }\n",
       "</style>\n",
       "<table border=\"1\" class=\"dataframe\">\n",
       "  <thead>\n",
       "    <tr style=\"text-align: right;\">\n",
       "      <th></th>\n",
       "      <th>train</th>\n",
       "      <th>speed</th>\n",
       "      <th>city</th>\n",
       "    </tr>\n",
       "  </thead>\n",
       "  <tbody>\n",
       "    <tr>\n",
       "      <th>0</th>\n",
       "      <td>koyna</td>\n",
       "      <td>98</td>\n",
       "      <td>Koregaon</td>\n",
       "    </tr>\n",
       "    <tr>\n",
       "      <th>1</th>\n",
       "      <td>nizamud</td>\n",
       "      <td>87</td>\n",
       "      <td>Satara</td>\n",
       "    </tr>\n",
       "    <tr>\n",
       "      <th>2</th>\n",
       "      <td>ortonuou</td>\n",
       "      <td>76</td>\n",
       "      <td>pune</td>\n",
       "    </tr>\n",
       "    <tr>\n",
       "      <th>3</th>\n",
       "      <td>viv espre</td>\n",
       "      <td>66</td>\n",
       "      <td>mumbai</td>\n",
       "    </tr>\n",
       "  </tbody>\n",
       "</table>\n",
       "</div>"
      ],
      "text/plain": [
       "       train  speed      city\n",
       "0      koyna     98  Koregaon\n",
       "1    nizamud     87    Satara\n",
       "2   ortonuou     76      pune\n",
       "3  viv espre     66    mumbai"
      ]
     },
     "execution_count": 14,
     "metadata": {},
     "output_type": "execute_result"
    }
   ],
   "source": [
    "rs"
   ]
  },
  {
   "cell_type": "code",
   "execution_count": 15,
   "id": "b2edb8a1",
   "metadata": {},
   "outputs": [
    {
     "data": {
      "text/plain": [
       "0    Koregaon\n",
       "1      Satara\n",
       "2        pune\n",
       "3      mumbai\n",
       "Name: city, dtype: object"
      ]
     },
     "execution_count": 15,
     "metadata": {},
     "output_type": "execute_result"
    }
   ],
   "source": [
    "rs[\"city\"]"
   ]
  },
  {
   "cell_type": "code",
   "execution_count": 16,
   "id": "12310d4a",
   "metadata": {},
   "outputs": [
    {
     "data": {
      "text/plain": [
       "98"
      ]
     },
     "execution_count": 16,
     "metadata": {},
     "output_type": "execute_result"
    }
   ],
   "source": [
    "rs[\"speed\"][0]"
   ]
  },
  {
   "cell_type": "code",
   "execution_count": 17,
   "id": "371ebd9f",
   "metadata": {},
   "outputs": [],
   "source": [
    "rs.index = [\"i\",\"ii\",\"iii\",\"iv\"]"
   ]
  },
  {
   "cell_type": "code",
   "execution_count": 18,
   "id": "ff609675",
   "metadata": {},
   "outputs": [
    {
     "data": {
      "text/html": [
       "<div>\n",
       "<style scoped>\n",
       "    .dataframe tbody tr th:only-of-type {\n",
       "        vertical-align: middle;\n",
       "    }\n",
       "\n",
       "    .dataframe tbody tr th {\n",
       "        vertical-align: top;\n",
       "    }\n",
       "\n",
       "    .dataframe thead th {\n",
       "        text-align: right;\n",
       "    }\n",
       "</style>\n",
       "<table border=\"1\" class=\"dataframe\">\n",
       "  <thead>\n",
       "    <tr style=\"text-align: right;\">\n",
       "      <th></th>\n",
       "      <th>train</th>\n",
       "      <th>speed</th>\n",
       "      <th>city</th>\n",
       "    </tr>\n",
       "  </thead>\n",
       "  <tbody>\n",
       "    <tr>\n",
       "      <th>i</th>\n",
       "      <td>koyna</td>\n",
       "      <td>98</td>\n",
       "      <td>Koregaon</td>\n",
       "    </tr>\n",
       "    <tr>\n",
       "      <th>ii</th>\n",
       "      <td>nizamud</td>\n",
       "      <td>87</td>\n",
       "      <td>Satara</td>\n",
       "    </tr>\n",
       "    <tr>\n",
       "      <th>iii</th>\n",
       "      <td>ortonuou</td>\n",
       "      <td>76</td>\n",
       "      <td>pune</td>\n",
       "    </tr>\n",
       "    <tr>\n",
       "      <th>iv</th>\n",
       "      <td>viv espre</td>\n",
       "      <td>66</td>\n",
       "      <td>mumbai</td>\n",
       "    </tr>\n",
       "  </tbody>\n",
       "</table>\n",
       "</div>"
      ],
      "text/plain": [
       "         train  speed      city\n",
       "i        koyna     98  Koregaon\n",
       "ii     nizamud     87    Satara\n",
       "iii   ortonuou     76      pune\n",
       "iv   viv espre     66    mumbai"
      ]
     },
     "execution_count": 18,
     "metadata": {},
     "output_type": "execute_result"
    }
   ],
   "source": [
    "rs"
   ]
  },
  {
   "cell_type": "code",
   "execution_count": 22,
   "id": "5a428760",
   "metadata": {},
   "outputs": [],
   "source": [
    "ser = pd.Series(np.random.rand(34))"
   ]
  },
  {
   "cell_type": "code",
   "execution_count": 23,
   "id": "2451387d",
   "metadata": {},
   "outputs": [
    {
     "data": {
      "text/plain": [
       "0     0.755299\n",
       "1     0.509112\n",
       "2     0.582253\n",
       "3     0.635717\n",
       "4     0.850748\n",
       "5     0.693554\n",
       "6     0.130759\n",
       "7     0.615778\n",
       "8     0.927989\n",
       "9     0.922886\n",
       "10    0.819147\n",
       "11    0.668070\n",
       "12    0.103048\n",
       "13    0.069458\n",
       "14    0.554987\n",
       "15    0.803281\n",
       "16    0.810706\n",
       "17    0.524350\n",
       "18    0.808441\n",
       "19    0.569160\n",
       "20    0.835150\n",
       "21    0.750947\n",
       "22    0.666455\n",
       "23    0.487763\n",
       "24    0.240409\n",
       "25    0.118729\n",
       "26    0.977091\n",
       "27    0.824586\n",
       "28    0.556981\n",
       "29    0.378729\n",
       "30    0.095362\n",
       "31    0.293626\n",
       "32    0.648679\n",
       "33    0.828808\n",
       "dtype: float64"
      ]
     },
     "execution_count": 23,
     "metadata": {},
     "output_type": "execute_result"
    }
   ],
   "source": [
    "ser"
   ]
  },
  {
   "cell_type": "code",
   "execution_count": 21,
   "id": "c1ebf594",
   "metadata": {},
   "outputs": [
    {
     "data": {
      "text/plain": [
       "0    <built-in method rand of numpy.random.mtrand.R...\n",
       "dtype: object"
      ]
     },
     "execution_count": 21,
     "metadata": {},
     "output_type": "execute_result"
    }
   ],
   "source": [
    "ser"
   ]
  },
  {
   "cell_type": "code",
   "execution_count": 27,
   "id": "94cf5d3a",
   "metadata": {},
   "outputs": [],
   "source": [
    "newpf = pd.DataFrame(np.random.rand(400,5))"
   ]
  },
  {
   "cell_type": "code",
   "execution_count": 28,
   "id": "17641caf",
   "metadata": {},
   "outputs": [
    {
     "data": {
      "text/html": [
       "<div>\n",
       "<style scoped>\n",
       "    .dataframe tbody tr th:only-of-type {\n",
       "        vertical-align: middle;\n",
       "    }\n",
       "\n",
       "    .dataframe tbody tr th {\n",
       "        vertical-align: top;\n",
       "    }\n",
       "\n",
       "    .dataframe thead th {\n",
       "        text-align: right;\n",
       "    }\n",
       "</style>\n",
       "<table border=\"1\" class=\"dataframe\">\n",
       "  <thead>\n",
       "    <tr style=\"text-align: right;\">\n",
       "      <th></th>\n",
       "      <th>0</th>\n",
       "      <th>1</th>\n",
       "      <th>2</th>\n",
       "      <th>3</th>\n",
       "      <th>4</th>\n",
       "    </tr>\n",
       "  </thead>\n",
       "  <tbody>\n",
       "    <tr>\n",
       "      <th>0</th>\n",
       "      <td>0.725972</td>\n",
       "      <td>0.157117</td>\n",
       "      <td>0.131848</td>\n",
       "      <td>0.511996</td>\n",
       "      <td>0.470288</td>\n",
       "    </tr>\n",
       "    <tr>\n",
       "      <th>1</th>\n",
       "      <td>0.674660</td>\n",
       "      <td>0.037339</td>\n",
       "      <td>0.842238</td>\n",
       "      <td>0.620487</td>\n",
       "      <td>0.118883</td>\n",
       "    </tr>\n",
       "    <tr>\n",
       "      <th>2</th>\n",
       "      <td>0.751566</td>\n",
       "      <td>0.646365</td>\n",
       "      <td>0.825500</td>\n",
       "      <td>0.662759</td>\n",
       "      <td>0.239445</td>\n",
       "    </tr>\n",
       "    <tr>\n",
       "      <th>3</th>\n",
       "      <td>0.687634</td>\n",
       "      <td>0.261216</td>\n",
       "      <td>0.401092</td>\n",
       "      <td>0.285415</td>\n",
       "      <td>0.807674</td>\n",
       "    </tr>\n",
       "    <tr>\n",
       "      <th>4</th>\n",
       "      <td>0.715264</td>\n",
       "      <td>0.669283</td>\n",
       "      <td>0.187414</td>\n",
       "      <td>0.598611</td>\n",
       "      <td>0.260481</td>\n",
       "    </tr>\n",
       "    <tr>\n",
       "      <th>...</th>\n",
       "      <td>...</td>\n",
       "      <td>...</td>\n",
       "      <td>...</td>\n",
       "      <td>...</td>\n",
       "      <td>...</td>\n",
       "    </tr>\n",
       "    <tr>\n",
       "      <th>395</th>\n",
       "      <td>0.929343</td>\n",
       "      <td>0.448676</td>\n",
       "      <td>0.816052</td>\n",
       "      <td>0.692572</td>\n",
       "      <td>0.469546</td>\n",
       "    </tr>\n",
       "    <tr>\n",
       "      <th>396</th>\n",
       "      <td>0.747106</td>\n",
       "      <td>0.817797</td>\n",
       "      <td>0.564238</td>\n",
       "      <td>0.796849</td>\n",
       "      <td>0.591886</td>\n",
       "    </tr>\n",
       "    <tr>\n",
       "      <th>397</th>\n",
       "      <td>0.138093</td>\n",
       "      <td>0.486668</td>\n",
       "      <td>0.857716</td>\n",
       "      <td>0.420301</td>\n",
       "      <td>0.654909</td>\n",
       "    </tr>\n",
       "    <tr>\n",
       "      <th>398</th>\n",
       "      <td>0.564237</td>\n",
       "      <td>0.062270</td>\n",
       "      <td>0.075320</td>\n",
       "      <td>0.464854</td>\n",
       "      <td>0.042519</td>\n",
       "    </tr>\n",
       "    <tr>\n",
       "      <th>399</th>\n",
       "      <td>0.509645</td>\n",
       "      <td>0.998513</td>\n",
       "      <td>0.218940</td>\n",
       "      <td>0.186561</td>\n",
       "      <td>0.588978</td>\n",
       "    </tr>\n",
       "  </tbody>\n",
       "</table>\n",
       "<p>400 rows × 5 columns</p>\n",
       "</div>"
      ],
      "text/plain": [
       "            0         1         2         3         4\n",
       "0    0.725972  0.157117  0.131848  0.511996  0.470288\n",
       "1    0.674660  0.037339  0.842238  0.620487  0.118883\n",
       "2    0.751566  0.646365  0.825500  0.662759  0.239445\n",
       "3    0.687634  0.261216  0.401092  0.285415  0.807674\n",
       "4    0.715264  0.669283  0.187414  0.598611  0.260481\n",
       "..        ...       ...       ...       ...       ...\n",
       "395  0.929343  0.448676  0.816052  0.692572  0.469546\n",
       "396  0.747106  0.817797  0.564238  0.796849  0.591886\n",
       "397  0.138093  0.486668  0.857716  0.420301  0.654909\n",
       "398  0.564237  0.062270  0.075320  0.464854  0.042519\n",
       "399  0.509645  0.998513  0.218940  0.186561  0.588978\n",
       "\n",
       "[400 rows x 5 columns]"
      ]
     },
     "execution_count": 28,
     "metadata": {},
     "output_type": "execute_result"
    }
   ],
   "source": [
    "newpf"
   ]
  },
  {
   "cell_type": "code",
   "execution_count": 32,
   "id": "3494384d",
   "metadata": {},
   "outputs": [
    {
     "data": {
      "text/html": [
       "<div>\n",
       "<style scoped>\n",
       "    .dataframe tbody tr th:only-of-type {\n",
       "        vertical-align: middle;\n",
       "    }\n",
       "\n",
       "    .dataframe tbody tr th {\n",
       "        vertical-align: top;\n",
       "    }\n",
       "\n",
       "    .dataframe thead th {\n",
       "        text-align: right;\n",
       "    }\n",
       "</style>\n",
       "<table border=\"1\" class=\"dataframe\">\n",
       "  <thead>\n",
       "    <tr style=\"text-align: right;\">\n",
       "      <th></th>\n",
       "      <th>0</th>\n",
       "      <th>1</th>\n",
       "      <th>2</th>\n",
       "      <th>3</th>\n",
       "      <th>4</th>\n",
       "    </tr>\n",
       "  </thead>\n",
       "  <tbody>\n",
       "    <tr>\n",
       "      <th>0</th>\n",
       "      <td>0.725972</td>\n",
       "      <td>0.157117</td>\n",
       "      <td>0.131848</td>\n",
       "      <td>0.511996</td>\n",
       "      <td>0.470288</td>\n",
       "    </tr>\n",
       "    <tr>\n",
       "      <th>1</th>\n",
       "      <td>0.674660</td>\n",
       "      <td>0.037339</td>\n",
       "      <td>0.842238</td>\n",
       "      <td>0.620487</td>\n",
       "      <td>0.118883</td>\n",
       "    </tr>\n",
       "    <tr>\n",
       "      <th>2</th>\n",
       "      <td>0.751566</td>\n",
       "      <td>0.646365</td>\n",
       "      <td>0.825500</td>\n",
       "      <td>0.662759</td>\n",
       "      <td>0.239445</td>\n",
       "    </tr>\n",
       "    <tr>\n",
       "      <th>3</th>\n",
       "      <td>0.687634</td>\n",
       "      <td>0.261216</td>\n",
       "      <td>0.401092</td>\n",
       "      <td>0.285415</td>\n",
       "      <td>0.807674</td>\n",
       "    </tr>\n",
       "    <tr>\n",
       "      <th>4</th>\n",
       "      <td>0.715264</td>\n",
       "      <td>0.669283</td>\n",
       "      <td>0.187414</td>\n",
       "      <td>0.598611</td>\n",
       "      <td>0.260481</td>\n",
       "    </tr>\n",
       "    <tr>\n",
       "      <th>5</th>\n",
       "      <td>0.329748</td>\n",
       "      <td>0.552117</td>\n",
       "      <td>0.184096</td>\n",
       "      <td>0.047615</td>\n",
       "      <td>0.995370</td>\n",
       "    </tr>\n",
       "    <tr>\n",
       "      <th>6</th>\n",
       "      <td>0.599247</td>\n",
       "      <td>0.672627</td>\n",
       "      <td>0.456013</td>\n",
       "      <td>0.780886</td>\n",
       "      <td>0.470963</td>\n",
       "    </tr>\n",
       "    <tr>\n",
       "      <th>7</th>\n",
       "      <td>0.654802</td>\n",
       "      <td>0.260737</td>\n",
       "      <td>0.452202</td>\n",
       "      <td>0.241756</td>\n",
       "      <td>0.564831</td>\n",
       "    </tr>\n",
       "    <tr>\n",
       "      <th>8</th>\n",
       "      <td>0.073396</td>\n",
       "      <td>0.129069</td>\n",
       "      <td>0.881702</td>\n",
       "      <td>0.290000</td>\n",
       "      <td>0.534090</td>\n",
       "    </tr>\n",
       "    <tr>\n",
       "      <th>9</th>\n",
       "      <td>0.059456</td>\n",
       "      <td>0.157490</td>\n",
       "      <td>0.399199</td>\n",
       "      <td>0.926560</td>\n",
       "      <td>0.800581</td>\n",
       "    </tr>\n",
       "  </tbody>\n",
       "</table>\n",
       "</div>"
      ],
      "text/plain": [
       "          0         1         2         3         4\n",
       "0  0.725972  0.157117  0.131848  0.511996  0.470288\n",
       "1  0.674660  0.037339  0.842238  0.620487  0.118883\n",
       "2  0.751566  0.646365  0.825500  0.662759  0.239445\n",
       "3  0.687634  0.261216  0.401092  0.285415  0.807674\n",
       "4  0.715264  0.669283  0.187414  0.598611  0.260481\n",
       "5  0.329748  0.552117  0.184096  0.047615  0.995370\n",
       "6  0.599247  0.672627  0.456013  0.780886  0.470963\n",
       "7  0.654802  0.260737  0.452202  0.241756  0.564831\n",
       "8  0.073396  0.129069  0.881702  0.290000  0.534090\n",
       "9  0.059456  0.157490  0.399199  0.926560  0.800581"
      ]
     },
     "execution_count": 32,
     "metadata": {},
     "output_type": "execute_result"
    }
   ],
   "source": [
    "newpf.head(10)"
   ]
  },
  {
   "cell_type": "code",
   "execution_count": 34,
   "id": "0a447e26",
   "metadata": {},
   "outputs": [
    {
     "data": {
      "text/html": [
       "<div>\n",
       "<style scoped>\n",
       "    .dataframe tbody tr th:only-of-type {\n",
       "        vertical-align: middle;\n",
       "    }\n",
       "\n",
       "    .dataframe tbody tr th {\n",
       "        vertical-align: top;\n",
       "    }\n",
       "\n",
       "    .dataframe thead th {\n",
       "        text-align: right;\n",
       "    }\n",
       "</style>\n",
       "<table border=\"1\" class=\"dataframe\">\n",
       "  <thead>\n",
       "    <tr style=\"text-align: right;\">\n",
       "      <th></th>\n",
       "      <th>0</th>\n",
       "      <th>1</th>\n",
       "      <th>2</th>\n",
       "      <th>3</th>\n",
       "      <th>4</th>\n",
       "    </tr>\n",
       "  </thead>\n",
       "  <tbody>\n",
       "    <tr>\n",
       "      <th>count</th>\n",
       "      <td>400.000000</td>\n",
       "      <td>400.000000</td>\n",
       "      <td>400.000000</td>\n",
       "      <td>400.000000</td>\n",
       "      <td>400.000000</td>\n",
       "    </tr>\n",
       "    <tr>\n",
       "      <th>mean</th>\n",
       "      <td>0.508703</td>\n",
       "      <td>0.492905</td>\n",
       "      <td>0.514913</td>\n",
       "      <td>0.510037</td>\n",
       "      <td>0.493478</td>\n",
       "    </tr>\n",
       "    <tr>\n",
       "      <th>std</th>\n",
       "      <td>0.289798</td>\n",
       "      <td>0.286737</td>\n",
       "      <td>0.284623</td>\n",
       "      <td>0.288135</td>\n",
       "      <td>0.289608</td>\n",
       "    </tr>\n",
       "    <tr>\n",
       "      <th>min</th>\n",
       "      <td>0.000469</td>\n",
       "      <td>0.004161</td>\n",
       "      <td>0.001021</td>\n",
       "      <td>0.002390</td>\n",
       "      <td>0.003750</td>\n",
       "    </tr>\n",
       "    <tr>\n",
       "      <th>25%</th>\n",
       "      <td>0.258232</td>\n",
       "      <td>0.249447</td>\n",
       "      <td>0.267804</td>\n",
       "      <td>0.263048</td>\n",
       "      <td>0.246880</td>\n",
       "    </tr>\n",
       "    <tr>\n",
       "      <th>50%</th>\n",
       "      <td>0.522836</td>\n",
       "      <td>0.488263</td>\n",
       "      <td>0.530144</td>\n",
       "      <td>0.509967</td>\n",
       "      <td>0.498789</td>\n",
       "    </tr>\n",
       "    <tr>\n",
       "      <th>75%</th>\n",
       "      <td>0.756369</td>\n",
       "      <td>0.716362</td>\n",
       "      <td>0.751277</td>\n",
       "      <td>0.766962</td>\n",
       "      <td>0.743238</td>\n",
       "    </tr>\n",
       "    <tr>\n",
       "      <th>max</th>\n",
       "      <td>0.997627</td>\n",
       "      <td>0.998513</td>\n",
       "      <td>0.994741</td>\n",
       "      <td>0.994228</td>\n",
       "      <td>0.998144</td>\n",
       "    </tr>\n",
       "  </tbody>\n",
       "</table>\n",
       "</div>"
      ],
      "text/plain": [
       "                0           1           2           3           4\n",
       "count  400.000000  400.000000  400.000000  400.000000  400.000000\n",
       "mean     0.508703    0.492905    0.514913    0.510037    0.493478\n",
       "std      0.289798    0.286737    0.284623    0.288135    0.289608\n",
       "min      0.000469    0.004161    0.001021    0.002390    0.003750\n",
       "25%      0.258232    0.249447    0.267804    0.263048    0.246880\n",
       "50%      0.522836    0.488263    0.530144    0.509967    0.498789\n",
       "75%      0.756369    0.716362    0.751277    0.766962    0.743238\n",
       "max      0.997627    0.998513    0.994741    0.994228    0.998144"
      ]
     },
     "execution_count": 34,
     "metadata": {},
     "output_type": "execute_result"
    }
   ],
   "source": [
    "newpf.describe()"
   ]
  },
  {
   "cell_type": "code",
   "execution_count": 37,
   "id": "bc15013f",
   "metadata": {},
   "outputs": [
    {
     "data": {
      "text/plain": [
       "0    float64\n",
       "1    float64\n",
       "2    float64\n",
       "3    float64\n",
       "4    float64\n",
       "dtype: object"
      ]
     },
     "execution_count": 37,
     "metadata": {},
     "output_type": "execute_result"
    }
   ],
   "source": [
    "newpf.dtypes"
   ]
  },
  {
   "cell_type": "code",
   "execution_count": 38,
   "id": "dcb51527",
   "metadata": {},
   "outputs": [],
   "source": [
    "newpf[0][0] = \"Rehan\""
   ]
  },
  {
   "cell_type": "code",
   "execution_count": 39,
   "id": "8b5219f0",
   "metadata": {},
   "outputs": [
    {
     "data": {
      "text/html": [
       "<div>\n",
       "<style scoped>\n",
       "    .dataframe tbody tr th:only-of-type {\n",
       "        vertical-align: middle;\n",
       "    }\n",
       "\n",
       "    .dataframe tbody tr th {\n",
       "        vertical-align: top;\n",
       "    }\n",
       "\n",
       "    .dataframe thead th {\n",
       "        text-align: right;\n",
       "    }\n",
       "</style>\n",
       "<table border=\"1\" class=\"dataframe\">\n",
       "  <thead>\n",
       "    <tr style=\"text-align: right;\">\n",
       "      <th></th>\n",
       "      <th>0</th>\n",
       "      <th>1</th>\n",
       "      <th>2</th>\n",
       "      <th>3</th>\n",
       "      <th>4</th>\n",
       "    </tr>\n",
       "  </thead>\n",
       "  <tbody>\n",
       "    <tr>\n",
       "      <th>0</th>\n",
       "      <td>Rehan</td>\n",
       "      <td>0.157117</td>\n",
       "      <td>0.131848</td>\n",
       "      <td>0.511996</td>\n",
       "      <td>0.470288</td>\n",
       "    </tr>\n",
       "    <tr>\n",
       "      <th>1</th>\n",
       "      <td>0.67466</td>\n",
       "      <td>0.037339</td>\n",
       "      <td>0.842238</td>\n",
       "      <td>0.620487</td>\n",
       "      <td>0.118883</td>\n",
       "    </tr>\n",
       "    <tr>\n",
       "      <th>2</th>\n",
       "      <td>0.751566</td>\n",
       "      <td>0.646365</td>\n",
       "      <td>0.825500</td>\n",
       "      <td>0.662759</td>\n",
       "      <td>0.239445</td>\n",
       "    </tr>\n",
       "    <tr>\n",
       "      <th>3</th>\n",
       "      <td>0.687634</td>\n",
       "      <td>0.261216</td>\n",
       "      <td>0.401092</td>\n",
       "      <td>0.285415</td>\n",
       "      <td>0.807674</td>\n",
       "    </tr>\n",
       "    <tr>\n",
       "      <th>4</th>\n",
       "      <td>0.715264</td>\n",
       "      <td>0.669283</td>\n",
       "      <td>0.187414</td>\n",
       "      <td>0.598611</td>\n",
       "      <td>0.260481</td>\n",
       "    </tr>\n",
       "    <tr>\n",
       "      <th>...</th>\n",
       "      <td>...</td>\n",
       "      <td>...</td>\n",
       "      <td>...</td>\n",
       "      <td>...</td>\n",
       "      <td>...</td>\n",
       "    </tr>\n",
       "    <tr>\n",
       "      <th>395</th>\n",
       "      <td>0.929343</td>\n",
       "      <td>0.448676</td>\n",
       "      <td>0.816052</td>\n",
       "      <td>0.692572</td>\n",
       "      <td>0.469546</td>\n",
       "    </tr>\n",
       "    <tr>\n",
       "      <th>396</th>\n",
       "      <td>0.747106</td>\n",
       "      <td>0.817797</td>\n",
       "      <td>0.564238</td>\n",
       "      <td>0.796849</td>\n",
       "      <td>0.591886</td>\n",
       "    </tr>\n",
       "    <tr>\n",
       "      <th>397</th>\n",
       "      <td>0.138093</td>\n",
       "      <td>0.486668</td>\n",
       "      <td>0.857716</td>\n",
       "      <td>0.420301</td>\n",
       "      <td>0.654909</td>\n",
       "    </tr>\n",
       "    <tr>\n",
       "      <th>398</th>\n",
       "      <td>0.564237</td>\n",
       "      <td>0.062270</td>\n",
       "      <td>0.075320</td>\n",
       "      <td>0.464854</td>\n",
       "      <td>0.042519</td>\n",
       "    </tr>\n",
       "    <tr>\n",
       "      <th>399</th>\n",
       "      <td>0.509645</td>\n",
       "      <td>0.998513</td>\n",
       "      <td>0.218940</td>\n",
       "      <td>0.186561</td>\n",
       "      <td>0.588978</td>\n",
       "    </tr>\n",
       "  </tbody>\n",
       "</table>\n",
       "<p>400 rows × 5 columns</p>\n",
       "</div>"
      ],
      "text/plain": [
       "            0         1         2         3         4\n",
       "0       Rehan  0.157117  0.131848  0.511996  0.470288\n",
       "1     0.67466  0.037339  0.842238  0.620487  0.118883\n",
       "2    0.751566  0.646365  0.825500  0.662759  0.239445\n",
       "3    0.687634  0.261216  0.401092  0.285415  0.807674\n",
       "4    0.715264  0.669283  0.187414  0.598611  0.260481\n",
       "..        ...       ...       ...       ...       ...\n",
       "395  0.929343  0.448676  0.816052  0.692572  0.469546\n",
       "396  0.747106  0.817797  0.564238  0.796849  0.591886\n",
       "397  0.138093  0.486668  0.857716  0.420301  0.654909\n",
       "398  0.564237  0.062270  0.075320  0.464854  0.042519\n",
       "399  0.509645  0.998513  0.218940  0.186561  0.588978\n",
       "\n",
       "[400 rows x 5 columns]"
      ]
     },
     "execution_count": 39,
     "metadata": {},
     "output_type": "execute_result"
    }
   ],
   "source": [
    "newpf"
   ]
  },
  {
   "cell_type": "code",
   "execution_count": null,
   "id": "555d0f20",
   "metadata": {},
   "outputs": [],
   "source": []
  }
 ],
 "metadata": {
  "kernelspec": {
   "display_name": "Python 3",
   "language": "python",
   "name": "python3"
  },
  "language_info": {
   "codemirror_mode": {
    "name": "ipython",
    "version": 3
   },
   "file_extension": ".py",
   "mimetype": "text/x-python",
   "name": "python",
   "nbconvert_exporter": "python",
   "pygments_lexer": "ipython3",
   "version": "3.8.8"
  }
 },
 "nbformat": 4,
 "nbformat_minor": 5
}
